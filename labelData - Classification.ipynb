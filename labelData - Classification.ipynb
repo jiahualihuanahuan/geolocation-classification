{
 "cells": [
  {
   "cell_type": "code",
   "execution_count": 1,
   "metadata": {},
   "outputs": [
    {
     "name": "stdout",
     "output_type": "stream",
     "text": [
      "0.21.3\n"
     ]
    }
   ],
   "source": [
    "# check sklearn version\n",
    "import sklearn\n",
    "print(sklearn.__version__)"
   ]
  },
  {
   "cell_type": "code",
   "execution_count": 2,
   "metadata": {},
   "outputs": [
    {
     "name": "stdout",
     "output_type": "stream",
     "text": [
      "Start Time = 14:58:21\n",
      "--- 0.9854090213775635 seconds ---\n",
      "End Time = 14:58:22\n"
     ]
    }
   ],
   "source": [
    "# load data\n",
    "import pandas as pd\n",
    "import time\n",
    "start_time = time.time()   \n",
    "from datetime import datetime\n",
    "now = datetime.now()\n",
    "current_time = now.strftime(\"%H:%M:%S\")\n",
    "print(\"Start Time =\", current_time)\n",
    "windows_filepath = 'D:/Dropbox/Machine Learning/Data/Ouyang/labelData.csv'\n",
    "mac_filepath = '/Users/jiahuali1991/Dropbox/Machine Learning/Data/Ouyang/labelData.csv'\n",
    "df = pd.read_csv(mac_filepath,header=None)\n",
    "print(\"--- %s seconds ---\" % (time.time() - start_time))\n",
    "now = datetime.now()\n",
    "current_time = now.strftime(\"%H:%M:%S\")\n",
    "print(\"End Time =\", current_time)"
   ]
  },
  {
   "cell_type": "code",
   "execution_count": 3,
   "metadata": {},
   "outputs": [
    {
     "name": "stdout",
     "output_type": "stream",
     "text": [
      "Start Time = 14:58:22\n",
      "--- 16.056145191192627 seconds ---\n",
      "End Time = 14:58:38\n"
     ]
    }
   ],
   "source": [
    "# concatenate alternating columns with pandas\n",
    "import time\n",
    "start_time = time.time()   \n",
    "from datetime import datetime\n",
    "now = datetime.now()\n",
    "current_time = now.strftime(\"%H:%M:%S\")\n",
    "print(\"Start Time =\", current_time)\n",
    "\n",
    "# concatenate alternating columns with pandas\n",
    "df1 = df.iloc[:,:125]\n",
    "df1\n",
    "df2 = df.iloc[:,125:250]\n",
    "df2\n",
    "\n",
    "df_new = pd.DataFrame()\n",
    "for i in range(len(df2.columns)):\n",
    "    df_new[df1.columns[i]]=df1[df1.columns[i]]\n",
    "    df_new[df2.columns[i]]=df2[df2.columns[i]]\n",
    "\n",
    "df_new\n",
    "df_new.shape\n",
    "\n",
    "\n",
    "# make X to complex numpy array\n",
    "import numpy as np\n",
    "X_reshape = np.array(df_new).reshape(10657,1,125,2)\n",
    "complex_df = np.apply_along_axis(lambda args: [complex(*args)], 3, X_reshape)\n",
    "complex_df_reshape = complex_df.reshape(10657,125)\n",
    "\n",
    "# Fast Fourier Transformation\n",
    "from scipy.fftpack import fft\n",
    "ft_df = fft(complex_df_reshape)\n",
    "ft_real = pd.DataFrame(ft_df.real)\n",
    "ft_imag = pd.DataFrame(ft_df.imag)\n",
    "X_full = pd.concat([ft_real, ft_imag],axis=1)\n",
    "\n",
    "X_full\n",
    "X_full.to_csv('/Users/jiahuali1991/Dropbox/Machine Learning/Data/Ouyang/labelData_fft.csv', index=False)\n",
    "\n",
    "print(\"--- %s seconds ---\" % (time.time() - start_time))\n",
    "now = datetime.now()\n",
    "current_time = now.strftime(\"%H:%M:%S\")\n",
    "print(\"End Time =\", current_time)"
   ]
  },
  {
   "cell_type": "code",
   "execution_count": 4,
   "metadata": {},
   "outputs": [
    {
     "name": "stdout",
     "output_type": "stream",
     "text": [
      "Start Time = 14:58:38\n",
      "--- 1.123244047164917 seconds ---\n",
      "End Time = 14:58:39\n"
     ]
    }
   ],
   "source": [
    "import time\n",
    "start_time = time.time()   \n",
    "from datetime import datetime\n",
    "now = datetime.now()\n",
    "current_time = now.strftime(\"%H:%M:%S\")\n",
    "print(\"Start Time =\", current_time)\n",
    "\n",
    "# load fft transformed data\n",
    "import pandas as pd\n",
    "windows_filepath_fft = 'D:/Dropbox/Machine Learning/Data/Ouyang/labelData_fft.csv'\n",
    "mac_filepath_fft = '/Users/jiahuali1991/Dropbox/Machine Learning/Data/Ouyang/labelData_fft.csv'\n",
    "df_fft = pd.read_csv(mac_filepath_fft,header=0)\n",
    "\n",
    "print(\"--- %s seconds ---\" % (time.time() - start_time))\n",
    "now = datetime.now()\n",
    "current_time = now.strftime(\"%H:%M:%S\")\n",
    "print(\"End Time =\", current_time)"
   ]
  },
  {
   "cell_type": "code",
   "execution_count": 5,
   "metadata": {},
   "outputs": [],
   "source": [
    "# Original Data\n",
    "X = df.iloc[:,:250]\n",
    "y = df[250]\n",
    "#print(X.describe())\n",
    "# print(X.shape)\n",
    "\n",
    "# get unique value for the label\n",
    "import numpy as np\n",
    "#np.unique(y)\n",
    "#print(y.describe())\n",
    "\n",
    "# FFT\n",
    "# split features (X) and lables (y)\n",
    "X_fft = df_fft\n",
    "#print(X_fft.describe())\n",
    "#print(X_fft.shape)"
   ]
  },
  {
   "cell_type": "code",
   "execution_count": 6,
   "metadata": {},
   "outputs": [
    {
     "name": "stdout",
     "output_type": "stream",
     "text": [
      "Start Time = 14:58:40\n",
      "--- 1.8615951538085938 seconds ---\n",
      "End Time = 14:58:41\n"
     ]
    }
   ],
   "source": [
    "import time\n",
    "start_time = time.time()   \n",
    "from datetime import datetime\n",
    "now = datetime.now()\n",
    "current_time = now.strftime(\"%H:%M:%S\")\n",
    "print(\"Start Time =\", current_time)\n",
    "\n",
    "# standardize the data as z-scores\n",
    "from sklearn.preprocessing import StandardScaler\n",
    "scaler = StandardScaler()\n",
    "X_scaled = scaler.fit_transform(X.astype('float64'))\n",
    "X_fft_scaled = scaler.fit_transform(X_fft.astype('float64'))\n",
    "\n",
    "# split training and test sets\n",
    "from sklearn.model_selection import train_test_split\n",
    "X_train, X_test, y_train, y_test = train_test_split(X_scaled, y, test_size=0.33, random_state=42)\n",
    "X_fft_train, X_fft_test, y_train, y_test = train_test_split(X_fft_scaled, y, test_size=0.33, random_state=42)\n",
    "y_train = y_train - 1\n",
    "y_test = y_test -1\n",
    "\n",
    "print(\"--- %s seconds ---\" % (time.time() - start_time))\n",
    "now = datetime.now()\n",
    "current_time = now.strftime(\"%H:%M:%S\")\n",
    "print(\"End Time =\", current_time)"
   ]
  },
  {
   "cell_type": "code",
   "execution_count": 7,
   "metadata": {
    "scrolled": false
   },
   "outputs": [
    {
     "name": "stdout",
     "output_type": "stream",
     "text": [
      "Start Time = 14:58:41\n"
     ]
    },
    {
     "name": "stderr",
     "output_type": "stream",
     "text": [
      "/opt/anaconda3/lib/python3.7/site-packages/tensorflow/python/framework/dtypes.py:516: FutureWarning: Passing (type, 1) or '1type' as a synonym of type is deprecated; in a future version of numpy, it will be understood as (type, (1,)) / '(1,)type'.\n",
      "  _np_qint8 = np.dtype([(\"qint8\", np.int8, 1)])\n",
      "/opt/anaconda3/lib/python3.7/site-packages/tensorflow/python/framework/dtypes.py:517: FutureWarning: Passing (type, 1) or '1type' as a synonym of type is deprecated; in a future version of numpy, it will be understood as (type, (1,)) / '(1,)type'.\n",
      "  _np_quint8 = np.dtype([(\"quint8\", np.uint8, 1)])\n",
      "/opt/anaconda3/lib/python3.7/site-packages/tensorflow/python/framework/dtypes.py:518: FutureWarning: Passing (type, 1) or '1type' as a synonym of type is deprecated; in a future version of numpy, it will be understood as (type, (1,)) / '(1,)type'.\n",
      "  _np_qint16 = np.dtype([(\"qint16\", np.int16, 1)])\n",
      "/opt/anaconda3/lib/python3.7/site-packages/tensorflow/python/framework/dtypes.py:519: FutureWarning: Passing (type, 1) or '1type' as a synonym of type is deprecated; in a future version of numpy, it will be understood as (type, (1,)) / '(1,)type'.\n",
      "  _np_quint16 = np.dtype([(\"quint16\", np.uint16, 1)])\n",
      "/opt/anaconda3/lib/python3.7/site-packages/tensorflow/python/framework/dtypes.py:520: FutureWarning: Passing (type, 1) or '1type' as a synonym of type is deprecated; in a future version of numpy, it will be understood as (type, (1,)) / '(1,)type'.\n",
      "  _np_qint32 = np.dtype([(\"qint32\", np.int32, 1)])\n",
      "/opt/anaconda3/lib/python3.7/site-packages/tensorflow/python/framework/dtypes.py:525: FutureWarning: Passing (type, 1) or '1type' as a synonym of type is deprecated; in a future version of numpy, it will be understood as (type, (1,)) / '(1,)type'.\n",
      "  np_resource = np.dtype([(\"resource\", np.ubyte, 1)])\n"
     ]
    },
    {
     "name": "stdout",
     "output_type": "stream",
     "text": [
      "WARNING:tensorflow:From /opt/anaconda3/lib/python3.7/site-packages/tensorflow/python/ops/init_ops.py:1251: calling VarianceScaling.__init__ (from tensorflow.python.ops.init_ops) with dtype is deprecated and will be removed in a future version.\n",
      "Instructions for updating:\n",
      "Call initializer instance with the dtype argument instead of passing it to the constructor\n"
     ]
    },
    {
     "name": "stderr",
     "output_type": "stream",
     "text": [
      "/opt/anaconda3/lib/python3.7/site-packages/tensorboard/compat/tensorflow_stub/dtypes.py:541: FutureWarning: Passing (type, 1) or '1type' as a synonym of type is deprecated; in a future version of numpy, it will be understood as (type, (1,)) / '(1,)type'.\n",
      "  _np_qint8 = np.dtype([(\"qint8\", np.int8, 1)])\n",
      "/opt/anaconda3/lib/python3.7/site-packages/tensorboard/compat/tensorflow_stub/dtypes.py:542: FutureWarning: Passing (type, 1) or '1type' as a synonym of type is deprecated; in a future version of numpy, it will be understood as (type, (1,)) / '(1,)type'.\n",
      "  _np_quint8 = np.dtype([(\"quint8\", np.uint8, 1)])\n",
      "/opt/anaconda3/lib/python3.7/site-packages/tensorboard/compat/tensorflow_stub/dtypes.py:543: FutureWarning: Passing (type, 1) or '1type' as a synonym of type is deprecated; in a future version of numpy, it will be understood as (type, (1,)) / '(1,)type'.\n",
      "  _np_qint16 = np.dtype([(\"qint16\", np.int16, 1)])\n",
      "/opt/anaconda3/lib/python3.7/site-packages/tensorboard/compat/tensorflow_stub/dtypes.py:544: FutureWarning: Passing (type, 1) or '1type' as a synonym of type is deprecated; in a future version of numpy, it will be understood as (type, (1,)) / '(1,)type'.\n",
      "  _np_quint16 = np.dtype([(\"quint16\", np.uint16, 1)])\n",
      "/opt/anaconda3/lib/python3.7/site-packages/tensorboard/compat/tensorflow_stub/dtypes.py:545: FutureWarning: Passing (type, 1) or '1type' as a synonym of type is deprecated; in a future version of numpy, it will be understood as (type, (1,)) / '(1,)type'.\n",
      "  _np_qint32 = np.dtype([(\"qint32\", np.int32, 1)])\n",
      "/opt/anaconda3/lib/python3.7/site-packages/tensorboard/compat/tensorflow_stub/dtypes.py:550: FutureWarning: Passing (type, 1) or '1type' as a synonym of type is deprecated; in a future version of numpy, it will be understood as (type, (1,)) / '(1,)type'.\n",
      "  np_resource = np.dtype([(\"resource\", np.ubyte, 1)])\n"
     ]
    },
    {
     "name": "stdout",
     "output_type": "stream",
     "text": [
      "Model: \"sequential\"\n",
      "_________________________________________________________________\n",
      "Layer (type)                 Output Shape              Param #   \n",
      "=================================================================\n",
      "flatten (Flatten)            (None, 250)               0         \n",
      "_________________________________________________________________\n",
      "dense (Dense)                (None, 512)               128512    \n",
      "_________________________________________________________________\n",
      "dense_1 (Dense)              (None, 256)               131328    \n",
      "_________________________________________________________________\n",
      "dense_2 (Dense)              (None, 128)               32896     \n",
      "_________________________________________________________________\n",
      "dense_3 (Dense)              (None, 64)                8256      \n",
      "_________________________________________________________________\n",
      "dense_4 (Dense)              (None, 32)                2080      \n",
      "_________________________________________________________________\n",
      "dense_5 (Dense)              (None, 16)                528       \n",
      "_________________________________________________________________\n",
      "dense_6 (Dense)              (None, 10)                170       \n",
      "=================================================================\n",
      "Total params: 303,770\n",
      "Trainable params: 303,770\n",
      "Non-trainable params: 0\n",
      "_________________________________________________________________\n",
      "None\n",
      "Deep Learning Model Accuracy: 41.74%\n",
      "--- 41.85268020629883 seconds ---\n",
      "End Time = 14:59:23\n"
     ]
    }
   ],
   "source": [
    "# deep learning on original data\n",
    "import time\n",
    "start_time = time.time()   \n",
    "from datetime import datetime\n",
    "now = datetime.now()\n",
    "current_time = now.strftime(\"%H:%M:%S\")\n",
    "print(\"Start Time =\", current_time)\n",
    "\n",
    "import tensorflow as tf\n",
    "from tensorflow import keras\n",
    "tf.__version__\n",
    "keras.__version__\n",
    "\n",
    "model = keras.models.Sequential()\n",
    "model.add(keras.layers.Flatten(input_shape=[250]))\n",
    "model.add(keras.layers.Dense(512, activation=\"relu\"))\n",
    "model.add(keras.layers.Dense(256, activation=\"relu\"))\n",
    "model.add(keras.layers.Dense(128, activation=\"relu\"))\n",
    "model.add(keras.layers.Dense(64, activation=\"relu\"))\n",
    "model.add(keras.layers.Dense(32, activation=\"relu\"))\n",
    "model.add(keras.layers.Dense(16, activation=\"relu\"))\n",
    "model.add(keras.layers.Dense(10, activation=\"softmax\"))\n",
    "\n",
    "print(model.summary())\n",
    "\n",
    "model.compile(loss=\"sparse_categorical_crossentropy\", optimizer=\"adam\", metrics=[\"acc\"]) # sgd\n",
    "\n",
    "filepath = '/Users/jiahuali1991/Dropbox/Machine Learning/Data/Ouyang/DeepNet_Model_labelData_original.h5'\n",
    "# model.load_weights(filepath) #load previously trained model\n",
    "\n",
    "\n",
    "history = model.fit(X_train, y_train, epochs=500, batch_size = 50, verbose = 0,\n",
    "                    validation_data=(X_test, y_test),\n",
    "                   callbacks = [\n",
    "        keras.callbacks.ModelCheckpoint(filepath, monitor='val_loss', verbose=0, save_best_only=True, mode='auto'),\n",
    "        keras.callbacks.EarlyStopping(monitor='val_loss', patience=15, verbose=0, mode='auto')\n",
    "    ])\n",
    "\n",
    "# we re-load the best weights once training is finished\n",
    "model.load_weights(filepath)\n",
    "'''\n",
    "import matplotlib.pyplot as plt\n",
    "pd.DataFrame(history.history).plot(figsize=(8, 5))\n",
    "plt.grid(True)\n",
    "plt.gca().set_ylim(0, 1) # set the vertical range to [0-1]\n",
    "plt.show()\n",
    "'''\n",
    "\n",
    "y_test_pred_dl = model.predict_classes(X_test)\n",
    "# model.evaluate(X_fft_test, y_test)\n",
    "from sklearn.metrics import accuracy_score  \n",
    "print(\"Deep Learning Model Accuracy: %.2f%%\" % (accuracy_score(y_test, y_test_pred_dl) * 100.0))\n",
    "\n",
    "print(\"--- %s seconds ---\" % (time.time() - start_time))\n",
    "now = datetime.now()\n",
    "current_time = now.strftime(\"%H:%M:%S\")\n",
    "print(\"End Time =\", current_time)"
   ]
  },
  {
   "cell_type": "code",
   "execution_count": 8,
   "metadata": {},
   "outputs": [
    {
     "name": "stdout",
     "output_type": "stream",
     "text": [
      "Start Time = 14:59:23\n",
      "Model: \"sequential_1\"\n",
      "_________________________________________________________________\n",
      "Layer (type)                 Output Shape              Param #   \n",
      "=================================================================\n",
      "flatten_1 (Flatten)          (None, 250)               0         \n",
      "_________________________________________________________________\n",
      "dense_7 (Dense)              (None, 512)               128512    \n",
      "_________________________________________________________________\n",
      "dense_8 (Dense)              (None, 256)               131328    \n",
      "_________________________________________________________________\n",
      "dense_9 (Dense)              (None, 128)               32896     \n",
      "_________________________________________________________________\n",
      "dense_10 (Dense)             (None, 64)                8256      \n",
      "_________________________________________________________________\n",
      "dense_11 (Dense)             (None, 32)                2080      \n",
      "_________________________________________________________________\n",
      "dense_12 (Dense)             (None, 16)                528       \n",
      "_________________________________________________________________\n",
      "dense_13 (Dense)             (None, 10)                170       \n",
      "=================================================================\n",
      "Total params: 303,770\n",
      "Trainable params: 303,770\n",
      "Non-trainable params: 0\n",
      "_________________________________________________________________\n",
      "None\n",
      "Deep Learning Model Accuracy: 41.94%\n",
      "--- 24.602364778518677 seconds ---\n",
      "End Time = 14:59:48\n"
     ]
    }
   ],
   "source": [
    "# deep learning on fft tranformed data\n",
    "import time\n",
    "start_time = time.time()   \n",
    "from datetime import datetime\n",
    "now = datetime.now()\n",
    "current_time = now.strftime(\"%H:%M:%S\")\n",
    "print(\"Start Time =\", current_time)\n",
    "\n",
    "import tensorflow as tf\n",
    "from tensorflow import keras\n",
    "tf.__version__\n",
    "keras.__version__\n",
    "\n",
    "model = keras.models.Sequential()\n",
    "model.add(keras.layers.Flatten(input_shape=[250]))\n",
    "model.add(keras.layers.Dense(512, activation=\"relu\"))\n",
    "model.add(keras.layers.Dense(256, activation=\"relu\"))\n",
    "model.add(keras.layers.Dense(128, activation=\"relu\"))\n",
    "model.add(keras.layers.Dense(64, activation=\"relu\"))\n",
    "model.add(keras.layers.Dense(32, activation=\"relu\"))\n",
    "model.add(keras.layers.Dense(16, activation=\"relu\"))\n",
    "model.add(keras.layers.Dense(10, activation=\"softmax\"))\n",
    "\n",
    "print(model.summary())\n",
    "\n",
    "model.compile(loss=\"sparse_categorical_crossentropy\", optimizer=\"adam\", metrics=[\"acc\"]) # sgd\n",
    "\n",
    "filepath = '/Users/jiahuali1991/Dropbox/Machine Learning/Data/Ouyang/DeepNet_Model_labelData_fft.h5'\n",
    "# model.load_weights(filepath) #load previously trained model\n",
    "\n",
    "\n",
    "history = model.fit(X_fft_train, y_train, epochs=500, batch_size = 50, verbose = 0,\n",
    "                    validation_data=(X_fft_test, y_test),\n",
    "                   callbacks = [\n",
    "        keras.callbacks.ModelCheckpoint(filepath, monitor='val_loss', verbose=0, save_best_only=True, mode='auto'),\n",
    "        keras.callbacks.EarlyStopping(monitor='val_loss', patience=15, verbose=0, mode='auto')\n",
    "    ])\n",
    "\n",
    "# we re-load the best weights once training is finished\n",
    "model.load_weights(filepath)\n",
    "'''\n",
    "import matplotlib.pyplot as plt\n",
    "pd.DataFrame(history.history).plot(figsize=(8, 5))\n",
    "plt.grid(True)\n",
    "plt.gca().set_ylim(0, 1) # set the vertical range to [0-1]\n",
    "plt.show()\n",
    "'''\n",
    "y_test_pred_dl = model.predict_classes(X_fft_test)\n",
    "# model.evaluate(X_fft_test, y_test)\n",
    "from sklearn.metrics import accuracy_score  \n",
    "print(\"Deep Learning Model Accuracy: %.2f%%\" % (accuracy_score(y_test, y_test_pred_dl) * 100.0))\n",
    "\n",
    "print(\"--- %s seconds ---\" % (time.time() - start_time))\n",
    "now = datetime.now()\n",
    "current_time = now.strftime(\"%H:%M:%S\")\n",
    "print(\"End Time =\", current_time)"
   ]
  },
  {
   "cell_type": "code",
   "execution_count": 9,
   "metadata": {},
   "outputs": [
    {
     "name": "stdout",
     "output_type": "stream",
     "text": [
      "Start Time = 14:59:48\n",
      "start fitting Random Forest Model\n"
     ]
    },
    {
     "name": "stderr",
     "output_type": "stream",
     "text": [
      "/opt/anaconda3/lib/python3.7/site-packages/sklearn/ensemble/forest.py:245: FutureWarning: The default value of n_estimators will change from 10 in version 0.20 to 100 in 0.22.\n",
      "  \"10 in version 0.20 to 100 in 0.22.\", FutureWarning)\n"
     ]
    },
    {
     "name": "stdout",
     "output_type": "stream",
     "text": [
      "start making prediction\n",
      "start calculating accuracy score\n",
      "Random Forest Model Accuracy: 34.46%\n",
      "--- 1.1020739078521729 seconds ---\n",
      "End Time = 14:59:49\n"
     ]
    }
   ],
   "source": [
    "# Random Forest on original data\n",
    "import time\n",
    "start_time = time.time()   \n",
    "from datetime import datetime\n",
    "now = datetime.now()\n",
    "current_time = now.strftime(\"%H:%M:%S\")\n",
    "print(\"Start Time =\", current_time)\n",
    "print('start fitting Random Forest Model')    \n",
    "from sklearn.ensemble import RandomForestClassifier\n",
    "rf_clf = RandomForestClassifier(n_jobs=-1)\n",
    "rf_clf.fit(X_train, y_train)\n",
    "print('start making prediction') \n",
    "y_test_pred_rf = rf_clf.predict(X_test)\n",
    "print('start calculating accuracy score') \n",
    "from sklearn.metrics import accuracy_score  \n",
    "rf_accuracy = accuracy_score(y_test, y_test_pred_rf)\n",
    "print(\"Random Forest Model Accuracy: %.2f%%\" % (rf_accuracy * 100.0))\n",
    "\n",
    "# save the model to disk\n",
    "import pickle\n",
    "filename = 'RandomForest_model_original.sav'\n",
    "pickle.dump(rf_clf, open(filename, 'wb'))\n",
    "\n",
    "print(\"--- %s seconds ---\" % (time.time() - start_time))\n",
    "now = datetime.now()\n",
    "current_time = now.strftime(\"%H:%M:%S\")\n",
    "print(\"End Time =\", current_time)"
   ]
  },
  {
   "cell_type": "code",
   "execution_count": 10,
   "metadata": {},
   "outputs": [
    {
     "name": "stdout",
     "output_type": "stream",
     "text": [
      "Start Time = 14:59:49\n",
      "start fitting Random Forest Model\n"
     ]
    },
    {
     "name": "stderr",
     "output_type": "stream",
     "text": [
      "/opt/anaconda3/lib/python3.7/site-packages/sklearn/ensemble/forest.py:245: FutureWarning: The default value of n_estimators will change from 10 in version 0.20 to 100 in 0.22.\n",
      "  \"10 in version 0.20 to 100 in 0.22.\", FutureWarning)\n"
     ]
    },
    {
     "name": "stdout",
     "output_type": "stream",
     "text": [
      "start making prediction\n",
      "Random Forest Model Accuracy: 40.83%\n",
      "--- 0.9935691356658936 seconds ---\n"
     ]
    }
   ],
   "source": [
    "# Random Forest on fft transformed data\n",
    "import time\n",
    "start_time = time.time()   \n",
    "from datetime import datetime\n",
    "now = datetime.now()\n",
    "current_time = now.strftime(\"%H:%M:%S\")\n",
    "print(\"Start Time =\", current_time)\n",
    "print('start fitting Random Forest Model')    \n",
    "from sklearn.ensemble import RandomForestClassifier\n",
    "rf_clf = RandomForestClassifier(n_jobs=-1)\n",
    "rf_clf.fit(X_fft_train, y_train)\n",
    "print('start making prediction') \n",
    "y_test_pred_rf = rf_clf.predict(X_fft_test)\n",
    "from sklearn.metrics import accuracy_score  \n",
    "print(\"Random Forest Model Accuracy: %.2f%%\" % (accuracy_score(y_test, y_test_pred_rf) * 100.0))\n",
    "\n",
    "# save the model to disk\n",
    "import pickle\n",
    "filename = 'RandomForest_model_fft.sav'\n",
    "pickle.dump(rf_clf, open(filename, 'wb'))\n",
    "\n",
    "print(\"--- %s seconds ---\" % (time.time() - start_time))\n",
    "now = datetime.now()\n",
    "current_time = now.strftime(\"%H:%M:%S\")"
   ]
  },
  {
   "cell_type": "code",
   "execution_count": 11,
   "metadata": {},
   "outputs": [
    {
     "name": "stdout",
     "output_type": "stream",
     "text": [
      "Start Time = 14:59:50\n",
      "start fitting CART Model\n",
      "start making prediction\n",
      "start calculating accuracy score\n",
      "CART Model Accuracy: 28.77%\n",
      "--- 3.926999092102051 seconds ---\n",
      "End Time = 14:59:54\n"
     ]
    }
   ],
   "source": [
    "# Classification and Regression Trees (CART) on original data\n",
    "import time\n",
    "start_time = time.time()   \n",
    "from datetime import datetime\n",
    "now = datetime.now()\n",
    "current_time = now.strftime(\"%H:%M:%S\")\n",
    "print(\"Start Time =\", current_time)\n",
    "print('start fitting CART Model')    \n",
    "from sklearn.tree import DecisionTreeClassifier\n",
    "dt_clf = DecisionTreeClassifier(random_state=0)\n",
    "dt_clf.fit(X_train, y_train)\n",
    "print('start making prediction') \n",
    "y_test_pred_dt = dt_clf.predict(X_test)\n",
    "print('start calculating accuracy score') \n",
    "from sklearn.metrics import accuracy_score  \n",
    "dt_accuracy = accuracy_score(y_test, y_test_pred_dt)\n",
    "print(\"CART Model Accuracy: %.2f%%\" % (dt_accuracy * 100.0))\n",
    "# save the model to disk\n",
    "import pickle\n",
    "filename = 'CART_model_original.sav'\n",
    "pickle.dump(dt_clf, open(filename, 'wb'))\n",
    "print(\"--- %s seconds ---\" % (time.time() - start_time))\n",
    "now = datetime.now()\n",
    "current_time = now.strftime(\"%H:%M:%S\")\n",
    "print(\"End Time =\", current_time)"
   ]
  },
  {
   "cell_type": "code",
   "execution_count": 12,
   "metadata": {},
   "outputs": [
    {
     "name": "stdout",
     "output_type": "stream",
     "text": [
      "Start Time = 14:59:54\n",
      "start fitting CART Model\n",
      "start making prediction\n",
      "start calculating accuracy score\n",
      "CART Model Accuracy: 35.71%\n",
      "--- 3.5552380084991455 seconds ---\n",
      "End Time = 14:59:58\n"
     ]
    }
   ],
   "source": [
    "# Classification and Regression Trees (CART) on fft data\n",
    "import time\n",
    "start_time = time.time()   \n",
    "from datetime import datetime\n",
    "now = datetime.now()\n",
    "current_time = now.strftime(\"%H:%M:%S\")\n",
    "print(\"Start Time =\", current_time)\n",
    "print('start fitting CART Model')    \n",
    "from sklearn.tree import DecisionTreeClassifier\n",
    "dt_clf = DecisionTreeClassifier(random_state=0)\n",
    "dt_clf.fit(X_fft_train, y_train)\n",
    "print('start making prediction') \n",
    "y_test_pred_dt = dt_clf.predict(X_fft_test)\n",
    "print('start calculating accuracy score') \n",
    "from sklearn.metrics import accuracy_score  \n",
    "dt_accuracy = accuracy_score(y_test, y_test_pred_dt)\n",
    "print(\"CART Model Accuracy: %.2f%%\" % (dt_accuracy * 100.0))\n",
    "# save the model to disk\n",
    "import pickle\n",
    "filename = 'CART_model_fft.sav'\n",
    "pickle.dump(dt_clf, open(filename, 'wb'))\n",
    "print(\"--- %s seconds ---\" % (time.time() - start_time))\n",
    "now = datetime.now()\n",
    "current_time = now.strftime(\"%H:%M:%S\")\n",
    "print(\"End Time =\", current_time)"
   ]
  },
  {
   "cell_type": "code",
   "execution_count": 27,
   "metadata": {},
   "outputs": [
    {
     "name": "stdout",
     "output_type": "stream",
     "text": [
      "Start Time = 15:28:48\n",
      "start fitting KNN Model\n",
      "start making prediction\n",
      "start calculating accuracy score\n",
      "KNN Model Accuracy: 36.65%\n",
      "--- 6.553386926651001 seconds ---\n",
      "End Time = 15:28:54\n"
     ]
    }
   ],
   "source": [
    "# KNN on original data\n",
    "import time\n",
    "start_time = time.time()   \n",
    "from datetime import datetime\n",
    "now = datetime.now()\n",
    "current_time = now.strftime(\"%H:%M:%S\")\n",
    "print(\"Start Time =\", current_time)\n",
    "print('start fitting KNN Model')    \n",
    "from sklearn.neighbors import KNeighborsClassifier\n",
    "knn_clf = KNeighborsClassifier(algorithm='auto', leaf_size=30, metric='minkowski',\n",
    "                     metric_params=None, n_neighbors=17, p=2,\n",
    "                     weights='distance', n_jobs = -1) \n",
    "knn_clf.fit(X_train, y_train)\n",
    "print('start making prediction') \n",
    "y_test_pred_knn = knn_clf.predict(X_test)\n",
    "print('start calculating accuracy score') \n",
    "from sklearn.metrics import accuracy_score  \n",
    "knn_accuracy = accuracy_score(y_test, y_test_pred_knn)\n",
    "print(\"KNN Model Accuracy: %.2f%%\" % (knn_accuracy * 100.0))\n",
    "# save the model to disk\n",
    "import pickle\n",
    "filename = 'KNN_model_original.sav'\n",
    "pickle.dump(knn_clf, open(filename, 'wb'))\n",
    "print(\"--- %s seconds ---\" % (time.time() - start_time))\n",
    "now = datetime.now()\n",
    "current_time = now.strftime(\"%H:%M:%S\")\n",
    "print(\"End Time =\", current_time)"
   ]
  },
  {
   "cell_type": "code",
   "execution_count": 28,
   "metadata": {},
   "outputs": [
    {
     "name": "stdout",
     "output_type": "stream",
     "text": [
      "Start Time = 15:28:54\n",
      "start fitting KNN Model\n",
      "start making prediction\n",
      "start calculating accuracy score\n",
      "KNN Model Accuracy: 41.65%\n",
      "--- 8.47330117225647 seconds ---\n",
      "End Time = 15:29:03\n"
     ]
    }
   ],
   "source": [
    "# KNN on fft transformed data\n",
    "import time\n",
    "start_time = time.time()   \n",
    "from datetime import datetime\n",
    "now = datetime.now()\n",
    "current_time = now.strftime(\"%H:%M:%S\")\n",
    "print(\"Start Time =\", current_time)\n",
    "print('start fitting KNN Model')    \n",
    "from sklearn.neighbors import KNeighborsClassifier\n",
    "knn_clf = KNeighborsClassifier(algorithm='auto', leaf_size=30, metric='minkowski',\n",
    "                     metric_params=None, n_neighbors=17, p=2,\n",
    "                     weights='distance', n_jobs = -1) \n",
    "knn_clf.fit(X_fft_train, y_train)\n",
    "print('start making prediction') \n",
    "y_test_pred_knn = knn_clf.predict(X_fft_test)\n",
    "print('start calculating accuracy score') \n",
    "from sklearn.metrics import accuracy_score  \n",
    "knn_accuracy = accuracy_score(y_test, y_test_pred_knn)\n",
    "print(\"KNN Model Accuracy: %.2f%%\" % (knn_accuracy * 100.0))\n",
    "# save the model to disk\n",
    "import pickle\n",
    "filename = 'KNN_model_fft.sav'\n",
    "pickle.dump(knn_clf, open(filename, 'wb'))\n",
    "print(\"--- %s seconds ---\" % (time.time() - start_time))\n",
    "now = datetime.now()\n",
    "current_time = now.strftime(\"%H:%M:%S\")\n",
    "print(\"End Time =\", current_time)"
   ]
  },
  {
   "cell_type": "code",
   "execution_count": 15,
   "metadata": {},
   "outputs": [
    {
     "name": "stdout",
     "output_type": "stream",
     "text": [
      "Start Time = 15:00:04\n",
      "start fitting Gaussian Naive Bayes Model\n",
      "start making prediction\n",
      "start calculating accuracy score\n",
      "Gaussian Naive Bayes Model Accuracy: 9.10%\n",
      "--- 0.30109500885009766 seconds ---\n",
      "End Time = 15:00:05\n"
     ]
    }
   ],
   "source": [
    "# Naive Bayes on original data\n",
    "import time\n",
    "start_time = time.time()   \n",
    "from datetime import datetime\n",
    "now = datetime.now()\n",
    "current_time = now.strftime(\"%H:%M:%S\")\n",
    "print(\"Start Time =\", current_time)\n",
    "print('start fitting Gaussian Naive Bayes Model')    \n",
    "from sklearn.naive_bayes import GaussianNB\n",
    "gnb_clf = GaussianNB()\n",
    "gnb_clf.fit(X_train, y_train)\n",
    "print('start making prediction') \n",
    "y_test_pred_gnb = gnb_clf.predict(X_test)\n",
    "print('start calculating accuracy score') \n",
    "from sklearn.metrics import accuracy_score  \n",
    "gnb_accuracy = accuracy_score(y_test, y_test_pred_gnb)\n",
    "print(\"Gaussian Naive Bayes Model Accuracy: %.2f%%\" % (gnb_accuracy * 100.0))\n",
    "# save the model to disk\n",
    "import pickle\n",
    "filename = 'NB_model_original.sav'\n",
    "pickle.dump(gnb_clf, open(filename, 'wb'))\n",
    "print(\"--- %s seconds ---\" % (time.time() - start_time))\n",
    "now = datetime.now()\n",
    "current_time = now.strftime(\"%H:%M:%S\")\n",
    "print(\"End Time =\", current_time)"
   ]
  },
  {
   "cell_type": "code",
   "execution_count": 16,
   "metadata": {},
   "outputs": [
    {
     "name": "stdout",
     "output_type": "stream",
     "text": [
      "Start Time = 15:00:05\n",
      "start fitting Gaussian Naive Bayes Model\n",
      "start making prediction\n",
      "start calculating accuracy score\n",
      "Random Forest Model Accuracy: 17.34%\n",
      "--- 0.13392996788024902 seconds ---\n",
      "End Time = 15:00:05\n"
     ]
    }
   ],
   "source": [
    "# Naive Bayes\n",
    "import time\n",
    "start_time = time.time()   \n",
    "from datetime import datetime\n",
    "now = datetime.now()\n",
    "current_time = now.strftime(\"%H:%M:%S\")\n",
    "print(\"Start Time =\", current_time)\n",
    "print('start fitting Gaussian Naive Bayes Model')    \n",
    "from sklearn.naive_bayes import GaussianNB\n",
    "gnb_clf = GaussianNB()\n",
    "gnb_clf.fit(X_fft_train, y_train)\n",
    "print('start making prediction') \n",
    "y_test_pred_gnb = gnb_clf.predict(X_fft_test)\n",
    "print('start calculating accuracy score') \n",
    "from sklearn.metrics import accuracy_score  \n",
    "gnb_accuracy = accuracy_score(y_test, y_test_pred_gnb)\n",
    "print(\"Random Forest Model Accuracy: %.2f%%\" % (gnb_accuracy * 100.0))\n",
    "# save the model to disk\n",
    "import pickle\n",
    "filename = 'NB_model_fft.sav'\n",
    "pickle.dump(gnb_clf, open(filename, 'wb'))\n",
    "print(\"--- %s seconds ---\" % (time.time() - start_time))\n",
    "now = datetime.now()\n",
    "current_time = now.strftime(\"%H:%M:%S\")\n",
    "print(\"End Time =\", current_time)"
   ]
  },
  {
   "cell_type": "code",
   "execution_count": 17,
   "metadata": {},
   "outputs": [
    {
     "name": "stdout",
     "output_type": "stream",
     "text": [
      "Start Time = 15:00:05\n",
      "start fitting Logistic Regression Model\n"
     ]
    },
    {
     "name": "stderr",
     "output_type": "stream",
     "text": [
      "/opt/anaconda3/lib/python3.7/site-packages/sklearn/linear_model/logistic.py:432: FutureWarning: Default solver will be changed to 'lbfgs' in 0.22. Specify a solver to silence this warning.\n",
      "  FutureWarning)\n",
      "/opt/anaconda3/lib/python3.7/site-packages/sklearn/linear_model/logistic.py:469: FutureWarning: Default multi_class will be changed to 'auto' in 0.22. Specify the multi_class option to silence this warning.\n",
      "  \"this warning.\", FutureWarning)\n"
     ]
    },
    {
     "name": "stdout",
     "output_type": "stream",
     "text": [
      "start making prediction\n",
      "start calculating accuracy score\n",
      "Logistic Regression Model Accuracy: 16.04%\n",
      "--- 16.432945013046265 seconds ---\n",
      "End Time = 15:00:21\n"
     ]
    }
   ],
   "source": [
    "# Logistic Regression on original data\n",
    "import time\n",
    "start_time = time.time()   \n",
    "from datetime import datetime\n",
    "now = datetime.now()\n",
    "current_time = now.strftime(\"%H:%M:%S\")\n",
    "print(\"Start Time =\", current_time)\n",
    "print('start fitting Logistic Regression Model')    \n",
    "from sklearn.linear_model import LogisticRegression\n",
    "lr_clf = LogisticRegression(random_state=0)\n",
    "lr_clf.fit(X_train, y_train)\n",
    "print('start making prediction') \n",
    "y_test_pred_lr = lr_clf.predict(X_test)\n",
    "print('start calculating accuracy score') \n",
    "from sklearn.metrics import accuracy_score  \n",
    "lr_accuracy = accuracy_score(y_test, y_test_pred_lr)\n",
    "print(\"Logistic Regression Model Accuracy: %.2f%%\" % (lr_accuracy * 100.0))\n",
    "# save the model to disk\n",
    "import pickle\n",
    "filename = 'LR_model_original.sav'\n",
    "pickle.dump(lr_clf, open(filename, 'wb'))\n",
    "print(\"--- %s seconds ---\" % (time.time() - start_time))\n",
    "now = datetime.now()\n",
    "current_time = now.strftime(\"%H:%M:%S\")\n",
    "print(\"End Time =\", current_time)"
   ]
  },
  {
   "cell_type": "code",
   "execution_count": 18,
   "metadata": {},
   "outputs": [
    {
     "name": "stdout",
     "output_type": "stream",
     "text": [
      "Start Time = 15:00:21\n",
      "start fitting Logistic Regression Model\n"
     ]
    },
    {
     "name": "stderr",
     "output_type": "stream",
     "text": [
      "/opt/anaconda3/lib/python3.7/site-packages/sklearn/linear_model/logistic.py:432: FutureWarning: Default solver will be changed to 'lbfgs' in 0.22. Specify a solver to silence this warning.\n",
      "  FutureWarning)\n",
      "/opt/anaconda3/lib/python3.7/site-packages/sklearn/linear_model/logistic.py:469: FutureWarning: Default multi_class will be changed to 'auto' in 0.22. Specify the multi_class option to silence this warning.\n",
      "  \"this warning.\", FutureWarning)\n"
     ]
    },
    {
     "name": "stdout",
     "output_type": "stream",
     "text": [
      "start making prediction\n",
      "start calculating accuracy score\n",
      "Logistic Regression Model Accuracy: 16.41%\n",
      "--- 25.17280626296997 seconds ---\n",
      "End Time = 15:00:47\n"
     ]
    }
   ],
   "source": [
    "# Logistic Regression\n",
    "import time\n",
    "start_time = time.time()   \n",
    "from datetime import datetime\n",
    "now = datetime.now()\n",
    "current_time = now.strftime(\"%H:%M:%S\")\n",
    "print(\"Start Time =\", current_time)\n",
    "print('start fitting Logistic Regression Model')    \n",
    "from sklearn.linear_model import LogisticRegression\n",
    "lr_clf = LogisticRegression(random_state=0)\n",
    "lr_clf.fit(X_fft_train, y_train)\n",
    "print('start making prediction') \n",
    "y_test_pred_lr = lr_clf.predict(X_fft_test)\n",
    "print('start calculating accuracy score') \n",
    "from sklearn.metrics import accuracy_score  \n",
    "lr_accuracy = accuracy_score(y_test, y_test_pred_lr)\n",
    "print(\"Logistic Regression Model Accuracy: %.2f%%\" % (lr_accuracy * 100.0))\n",
    "# save the model to disk\n",
    "import pickle\n",
    "filename = 'LR_model_fft.sav'\n",
    "pickle.dump(lr_clf, open(filename, 'wb'))\n",
    "print(\"--- %s seconds ---\" % (time.time() - start_time))\n",
    "now = datetime.now()\n",
    "current_time = now.strftime(\"%H:%M:%S\")\n",
    "print(\"End Time =\", current_time)"
   ]
  },
  {
   "cell_type": "code",
   "execution_count": 19,
   "metadata": {},
   "outputs": [
    {
     "name": "stdout",
     "output_type": "stream",
     "text": [
      "Start Time = 15:00:47\n",
      "start fitting SGD Model\n",
      "start making prediction\n",
      "start calculating accuracy score\n",
      "SGD Model Accuracy: 11.91%\n",
      "--- 2.6764888763427734 seconds ---\n",
      "End Time = 15:00:49\n"
     ]
    }
   ],
   "source": [
    "# SGD on original data\n",
    "import time\n",
    "start_time = time.time()   \n",
    "from datetime import datetime\n",
    "now = datetime.now()\n",
    "current_time = now.strftime(\"%H:%M:%S\")\n",
    "print(\"Start Time =\", current_time)\n",
    "print('start fitting SGD Model') \n",
    "from sklearn.linear_model import SGDClassifier\n",
    "sgd_clf = SGDClassifier()\n",
    "sgd_clf.fit(X_train, y_train)\n",
    "print('start making prediction') \n",
    "y_test_pred_sgd = sgd_clf.predict(X_test)\n",
    "print('start calculating accuracy score') \n",
    "from sklearn.metrics import accuracy_score  \n",
    "sgd_accuracy = accuracy_score(y_test, y_test_pred_sgd)\n",
    "print(\"SGD Model Accuracy: %.2f%%\" % (sgd_accuracy * 100.0))\n",
    "# save the model to disk\n",
    "import pickle\n",
    "filename = 'SGD_model_original.sav'\n",
    "pickle.dump(sgd_clf, open(filename, 'wb'))\n",
    "print(\"--- %s seconds ---\" % (time.time() - start_time))\n",
    "now = datetime.now()\n",
    "current_time = now.strftime(\"%H:%M:%S\")\n",
    "print(\"End Time =\", current_time)"
   ]
  },
  {
   "cell_type": "code",
   "execution_count": 20,
   "metadata": {},
   "outputs": [
    {
     "name": "stdout",
     "output_type": "stream",
     "text": [
      "Start Time = 15:00:49\n",
      "start fitting SGD Model\n",
      "start making prediction\n",
      "start calculating accuracy score\n",
      "SGD Model Accuracy: 14.19%\n",
      "--- 3.3317391872406006 seconds ---\n",
      "End Time = 15:00:53\n"
     ]
    }
   ],
   "source": [
    "# SGD on Fourier Tranformed Data\n",
    "import time\n",
    "start_time = time.time()   \n",
    "from datetime import datetime\n",
    "now = datetime.now()\n",
    "current_time = now.strftime(\"%H:%M:%S\")\n",
    "print(\"Start Time =\", current_time)\n",
    "print('start fitting SGD Model') \n",
    "from sklearn.linear_model import SGDClassifier\n",
    "sgd_clf = SGDClassifier()\n",
    "sgd_clf.fit(X_fft_train, y_train)\n",
    "print('start making prediction') \n",
    "y_test_pred_sgd = sgd_clf.predict(X_fft_test)\n",
    "print('start calculating accuracy score') \n",
    "from sklearn.metrics import accuracy_score  \n",
    "sgd_accuracy = accuracy_score(y_test, y_test_pred_sgd)\n",
    "print(\"SGD Model Accuracy: %.2f%%\" % (sgd_accuracy * 100.0))\n",
    "# save the model to disk\n",
    "import pickle\n",
    "filename = 'SGD_model_fft.sav'\n",
    "pickle.dump(sgd_clf, open(filename, 'wb'))\n",
    "print(\"--- %s seconds ---\" % (time.time() - start_time))\n",
    "now = datetime.now()\n",
    "current_time = now.strftime(\"%H:%M:%S\")\n",
    "print(\"End Time =\", current_time)"
   ]
  },
  {
   "cell_type": "code",
   "execution_count": 21,
   "metadata": {},
   "outputs": [
    {
     "name": "stdout",
     "output_type": "stream",
     "text": [
      "Start Time = 15:00:53\n",
      "start fitting Light GBM Model\n"
     ]
    },
    {
     "name": "stderr",
     "output_type": "stream",
     "text": [
      "/opt/anaconda3/lib/python3.7/site-packages/lightgbm/__init__.py:48: UserWarning: Starting from version 2.2.1, the library file in distribution wheels for macOS is built by the Apple Clang (Xcode_8.3.3) compiler.\n",
      "This means that in case of installing LightGBM from PyPI via the ``pip install lightgbm`` command, you don't need to install the gcc compiler anymore.\n",
      "Instead of that, you need to install the OpenMP library, which is required for running LightGBM on the system with the Apple Clang compiler.\n",
      "You can install the OpenMP library by the following command: ``brew install libomp``.\n",
      "  \"You can install the OpenMP library by the following command: ``brew install libomp``.\", UserWarning)\n"
     ]
    },
    {
     "name": "stdout",
     "output_type": "stream",
     "text": [
      "start making prediction\n",
      "start calculating accuracy score\n",
      "Light GBM Model Accuracy: 38.47%\n",
      "--- 33.45053195953369 seconds ---\n",
      "End Time = 15:01:26\n"
     ]
    }
   ],
   "source": [
    "# Light GBM on original data\n",
    "import time\n",
    "start_time = time.time()   \n",
    "from datetime import datetime\n",
    "now = datetime.now()\n",
    "current_time = now.strftime(\"%H:%M:%S\")\n",
    "print(\"Start Time =\", current_time)\n",
    "print('start fitting Light GBM Model') \n",
    "import lightgbm as lgb\n",
    "gbm = lgb.LGBMClassifier()\n",
    "gbm.fit(X_train, y_train)\n",
    "print('start making prediction') \n",
    "y_test_pred_gbm = gbm.predict(X_test)\n",
    "print('start calculating accuracy score') \n",
    "gbm_accuracy = accuracy_score(y_test, y_test_pred_gbm)\n",
    "print(\"Light GBM Model Accuracy: %.2f%%\" % (gbm_accuracy * 100.0))\n",
    "# save the model to disk\n",
    "import pickle\n",
    "filename = 'LightGBM_model_original.sav'\n",
    "pickle.dump(gbm, open(filename, 'wb'))\n",
    "print(\"--- %s seconds ---\" % (time.time() - start_time))\n",
    "now = datetime.now()\n",
    "current_time = now.strftime(\"%H:%M:%S\")\n",
    "print(\"End Time =\", current_time)"
   ]
  },
  {
   "cell_type": "code",
   "execution_count": 22,
   "metadata": {},
   "outputs": [
    {
     "name": "stdout",
     "output_type": "stream",
     "text": [
      "Start Time = 15:01:26\n",
      "start fitting Light GBM Model\n",
      "start making prediction\n",
      "start calculating accuracy score\n",
      "Light GBM Model Accuracy: 51.27%\n",
      "--- 36.946532011032104 seconds ---\n",
      "End Time = 15:02:03\n"
     ]
    }
   ],
   "source": [
    "# Light GBM on TTF data\n",
    "import time\n",
    "start_time = time.time()   \n",
    "from datetime import datetime\n",
    "now = datetime.now()\n",
    "current_time = now.strftime(\"%H:%M:%S\")\n",
    "print(\"Start Time =\", current_time)\n",
    "print('start fitting Light GBM Model') \n",
    "import lightgbm as lgb\n",
    "gbm = lgb.LGBMClassifier()\n",
    "gbm.fit(X_fft_train, y_train)\n",
    "print('start making prediction') \n",
    "y_test_pred_gbm = gbm.predict(X_fft_test)\n",
    "print('start calculating accuracy score') \n",
    "gbm_accuracy = accuracy_score(y_test, y_test_pred_gbm)\n",
    "print(\"Light GBM Model Accuracy: %.2f%%\" % (gbm_accuracy * 100.0))\n",
    "# save the model to disk\n",
    "import pickle\n",
    "filename = 'LightGBM_model_fft.sav'\n",
    "pickle.dump(gbm, open(filename, 'wb'))\n",
    "print(\"--- %s seconds ---\" % (time.time() - start_time))\n",
    "now = datetime.now()\n",
    "current_time = now.strftime(\"%H:%M:%S\")\n",
    "print(\"End Time =\", current_time)"
   ]
  },
  {
   "cell_type": "code",
   "execution_count": 23,
   "metadata": {},
   "outputs": [
    {
     "name": "stdout",
     "output_type": "stream",
     "text": [
      "Start Time = 15:02:03\n",
      "start fitting XGBoost Model\n",
      "start making prediction\n",
      "start calculating accuracy score\n",
      "XGBoost Model Accuracy: 34.77%\n",
      "--- 204.981281042099 seconds ---\n",
      "End Time = 15:05:28\n"
     ]
    }
   ],
   "source": [
    "# XGBoost on original data\n",
    "import time\n",
    "start_time = time.time()   \n",
    "from datetime import datetime\n",
    "now = datetime.now()\n",
    "current_time = now.strftime(\"%H:%M:%S\")\n",
    "print(\"Start Time =\", current_time)\n",
    "print('start fitting XGBoost Model') \n",
    "from xgboost import XGBClassifier\n",
    "XGB_clf = XGBClassifier()\n",
    "XGB_clf.fit(X_train, y_train)\n",
    "print('start making prediction') \n",
    "y_test_pred_XGB = XGB_clf.predict(X_test)\n",
    "print('start calculating accuracy score') \n",
    "XGB_accuracy = accuracy_score(y_test, y_test_pred_XGB)\n",
    "print(\"XGBoost Model Accuracy: %.2f%%\" % (XGB_accuracy * 100.0))\n",
    "# save the model to disk\n",
    "import pickle\n",
    "filename = 'XGBoost_model_original.sav'\n",
    "pickle.dump(XGB_clf, open(filename, 'wb'))\n",
    "print(\"--- %s seconds ---\" % (time.time() - start_time))\n",
    "now = datetime.now()\n",
    "current_time = now.strftime(\"%H:%M:%S\")\n",
    "print(\"End Time =\", current_time)"
   ]
  },
  {
   "cell_type": "code",
   "execution_count": 24,
   "metadata": {},
   "outputs": [
    {
     "name": "stdout",
     "output_type": "stream",
     "text": [
      "Start Time = 15:05:28\n",
      "start fitting XGBoost Model\n",
      "start making prediction\n",
      "start calculating accuracy score\n",
      "XGBoost Model Accuracy: 44.98%\n",
      "--- 299.6336889266968 seconds ---\n",
      "End Time = 15:10:28\n"
     ]
    }
   ],
   "source": [
    "# XGBoost\n",
    "import time\n",
    "start_time = time.time()   \n",
    "from datetime import datetime\n",
    "now = datetime.now()\n",
    "current_time = now.strftime(\"%H:%M:%S\")\n",
    "print(\"Start Time =\", current_time)\n",
    "print('start fitting XGBoost Model') \n",
    "from xgboost import XGBClassifier\n",
    "XGB_clf = XGBClassifier()\n",
    "XGB_clf.fit(X_fft_train, y_train)\n",
    "print('start making prediction') \n",
    "y_test_pred_XGB = XGB_clf.predict(X_fft_test)\n",
    "print('start calculating accuracy score') \n",
    "XGB_accuracy = accuracy_score(y_test, y_test_pred_XGB)\n",
    "print(\"XGBoost Model Accuracy: %.2f%%\" % (XGB_accuracy * 100.0))\n",
    "# save the model to disk\n",
    "import pickle\n",
    "filename = 'XGBoost_model_fft.sav'\n",
    "pickle.dump(XGB_clf, open(filename, 'wb'))\n",
    "print(\"--- %s seconds ---\" % (time.time() - start_time))\n",
    "now = datetime.now()\n",
    "current_time = now.strftime(\"%H:%M:%S\")\n",
    "print(\"End Time =\", current_time)"
   ]
  },
  {
   "cell_type": "code",
   "execution_count": 25,
   "metadata": {},
   "outputs": [
    {
     "name": "stdout",
     "output_type": "stream",
     "text": [
      "Start Time = 15:10:28\n",
      "start fitting CatBoost Model\n",
      "start making prediction\n",
      "start calculating accuracy score\n",
      "Cat Boost Model Accuracy: 39.52%\n",
      "--- 519.4524958133698 seconds ---\n",
      "End Time = 15:19:08\n"
     ]
    }
   ],
   "source": [
    "# CatBoost on original data\n",
    "import time\n",
    "start_time = time.time()   \n",
    "from datetime import datetime\n",
    "now = datetime.now()\n",
    "current_time = now.strftime(\"%H:%M:%S\")\n",
    "print(\"Start Time =\", current_time)\n",
    "import time\n",
    "start_time = time.time() \n",
    "print('start fitting CatBoost Model') \n",
    "from catboost import CatBoostClassifier\n",
    "catb_clf = CatBoostClassifier()\n",
    "catb_clf.fit(X_train, y_train, verbose=0)\n",
    "print('start making prediction') \n",
    "y_test_pred_catb = catb_clf.predict(X_test)\n",
    "from sklearn.metrics import accuracy_score\n",
    "print('start calculating accuracy score') \n",
    "catb_accuracy = accuracy_score(y_test, y_test_pred_catb)\n",
    "print(\"Cat Boost Model Accuracy: %.2f%%\" % (catb_accuracy * 100.0))\n",
    "# save the model to disk\n",
    "import pickle\n",
    "filename = 'CatBoost_model_original.sav'\n",
    "pickle.dump(catb_clf, open(filename, 'wb'))\n",
    "print(\"--- %s seconds ---\" % (time.time() - start_time))\n",
    "now = datetime.now()\n",
    "current_time = now.strftime(\"%H:%M:%S\")\n",
    "print(\"End Time =\", current_time)"
   ]
  },
  {
   "cell_type": "code",
   "execution_count": 26,
   "metadata": {
    "scrolled": false
   },
   "outputs": [
    {
     "name": "stdout",
     "output_type": "stream",
     "text": [
      "Start Time = 15:19:08\n",
      "start fitting CatBoost Model\n",
      "start making prediction\n",
      "start calculating accuracy score\n",
      "Cat Boost Model Accuracy: 51.07%\n",
      "--- 579.9042189121246 seconds ---\n",
      "End Time = 15:28:47\n"
     ]
    }
   ],
   "source": [
    "# CatBoost on FFT data\n",
    "import time\n",
    "start_time = time.time()   \n",
    "from datetime import datetime\n",
    "now = datetime.now()\n",
    "current_time = now.strftime(\"%H:%M:%S\")\n",
    "print(\"Start Time =\", current_time)\n",
    "import time\n",
    "start_time = time.time() \n",
    "print('start fitting CatBoost Model') \n",
    "from catboost import CatBoostClassifier\n",
    "catb_clf = CatBoostClassifier()\n",
    "catb_clf.fit(X_fft_train, y_train, verbose=0)\n",
    "print('start making prediction') \n",
    "y_test_pred_catb = catb_clf.predict(X_fft_test)\n",
    "from sklearn.metrics import accuracy_score\n",
    "print('start calculating accuracy score') \n",
    "catb_accuracy = accuracy_score(y_test, y_test_pred_catb)\n",
    "print(\"Cat Boost Model Accuracy: %.2f%%\" % (catb_accuracy * 100.0))\n",
    "# save the model to disk\n",
    "import pickle\n",
    "filename = 'CatBoost_model_fft.sav'\n",
    "pickle.dump(catb_clf, open(filename, 'wb'))\n",
    "print(\"--- %s seconds ---\" % (time.time() - start_time))\n",
    "now = datetime.now()\n",
    "current_time = now.strftime(\"%H:%M:%S\")\n",
    "print(\"End Time =\", current_time)"
   ]
  },
  {
   "cell_type": "code",
   "execution_count": 32,
   "metadata": {},
   "outputs": [
    {
     "name": "stdout",
     "output_type": "stream",
     "text": [
      "Start Time = 15:58:30\n",
      "start fitting Support Vector Machine Model\n",
      "start making prediction\n",
      "start calculating accuracy score\n",
      "Support Vector Machine Model Accuracy: 33.10%\n",
      "--- 125.57747626304626 seconds ---\n",
      "End Time = 16:00:36\n"
     ]
    }
   ],
   "source": [
    "# Support Vector Machine on original data\n",
    "import time\n",
    "start_time = time.time()   \n",
    "from datetime import datetime\n",
    "now = datetime.now()\n",
    "current_time = now.strftime(\"%H:%M:%S\")\n",
    "print(\"Start Time =\", current_time)\n",
    "print('start fitting Support Vector Machine Model') \n",
    "from sklearn import svm\n",
    "svm_clf = svm.SVC(C=10000, cache_size=200, class_weight=None, coef0=0.0,\n",
    "    decision_function_shape='ovr', degree=3, gamma=0.1, kernel='rbf',\n",
    "    max_iter=-1, probability=False, random_state=None, shrinking=True,\n",
    "    tol=0.001, verbose=False)\n",
    "svm_clf.fit(X_train, y_train)\n",
    "print('start making prediction') \n",
    "y_test_pred_svm = svm_clf.predict(X_test)\n",
    "print('start calculating accuracy score') \n",
    "from sklearn.metrics import accuracy_score  \n",
    "svm_accuracy = accuracy_score(y_test, y_test_pred_svm)\n",
    "print(\"Support Vector Machine Model Accuracy: %.2f%%\" % (svm_accuracy * 100.0))\n",
    "# save the model to disk\n",
    "import pickle\n",
    "filename = 'SVM_model_original.sav'\n",
    "pickle.dump(svm_clf, open(filename, 'wb'))\n",
    "print(\"--- %s seconds ---\" % (time.time() - start_time))\n",
    "now = datetime.now()\n",
    "current_time = now.strftime(\"%H:%M:%S\")\n",
    "print(\"End Time =\", current_time)"
   ]
  },
  {
   "cell_type": "code",
   "execution_count": 33,
   "metadata": {},
   "outputs": [
    {
     "name": "stdout",
     "output_type": "stream",
     "text": [
      "Start Time = 16:00:36\n",
      "start fitting Support Vector Machine Model\n",
      "start making prediction\n",
      "start calculating accuracy score\n",
      "Support Vector Machine Model Accuracy: 35.37%\n",
      "--- 133.84245705604553 seconds ---\n",
      "End Time = 16:02:50\n"
     ]
    }
   ],
   "source": [
    "# Support Vector Machine on fft transformed data\n",
    "import time\n",
    "start_time = time.time()   \n",
    "from datetime import datetime\n",
    "now = datetime.now()\n",
    "current_time = now.strftime(\"%H:%M:%S\")\n",
    "print(\"Start Time =\", current_time)\n",
    "print('start fitting Support Vector Machine Model') \n",
    "from sklearn import svm\n",
    "svm_clf = svm.SVC(C=10000, cache_size=200, class_weight=None, coef0=0.0,\n",
    "    decision_function_shape='ovr', degree=3, gamma=0.1, kernel='rbf',\n",
    "    max_iter=-1, probability=False, random_state=None, shrinking=True,\n",
    "    tol=0.001, verbose=False)\n",
    "svm_clf.fit(X_fft_train, y_train)\n",
    "print('start making prediction') \n",
    "y_test_pred_svm = svm_clf.predict(X_fft_test)\n",
    "print('start calculating accuracy score') \n",
    "from sklearn.metrics import accuracy_score  \n",
    "svm_accuracy = accuracy_score(y_test, y_test_pred_svm)\n",
    "print(\"Support Vector Machine Model Accuracy: %.2f%%\" % (svm_accuracy * 100.0))\n",
    "# save the model to disk\n",
    "import pickle\n",
    "filename = 'SVM_model_fft.sav'\n",
    "pickle.dump(svm_clf, open(filename, 'wb'))\n",
    "print(\"--- %s seconds ---\" % (time.time() - start_time))\n",
    "now = datetime.now()\n",
    "current_time = now.strftime(\"%H:%M:%S\")\n",
    "print(\"End Time =\", current_time)"
   ]
  },
  {
   "cell_type": "code",
   "execution_count": 36,
   "metadata": {},
   "outputs": [
    {
     "name": "stdout",
     "output_type": "stream",
     "text": [
      "Start Time = 16:04:42\n",
      "start fitting AdaBoost Model\n",
      "start making prediction\n",
      "start calculating accuracy score\n",
      "AdaBoost Model Accuracy: 28.55%\n",
      "--- 3.7686259746551514 seconds ---\n",
      "End Time = 16:04:46\n"
     ]
    }
   ],
   "source": [
    "# AdaBoost on original data\n",
    "import time\n",
    "start_time = time.time()   \n",
    "from datetime import datetime\n",
    "now = datetime.now()\n",
    "current_time = now.strftime(\"%H:%M:%S\")\n",
    "print(\"Start Time =\", current_time)\n",
    "print('start fitting AdaBoost Model') \n",
    "from sklearn.ensemble import AdaBoostClassifier\n",
    "from sklearn.tree import DecisionTreeClassifier\n",
    "ada_clf = AdaBoostClassifier(DecisionTreeClassifier(), n_estimators=200, algorithm='SAMME.R', learning_rate=0.5)\n",
    "ada_clf.fit(X_train, y_train)\n",
    "print('start making prediction') \n",
    "y_test_pred_ada = ada_clf.predict(X_test)\n",
    "print('start calculating accuracy score') \n",
    "from sklearn.metrics import accuracy_score  \n",
    "ada_accuracy = accuracy_score(y_test, y_test_pred_ada)\n",
    "print(\"AdaBoost Model Accuracy: %.2f%%\" % (ada_accuracy * 100.0))\n",
    "# save the model to disk\n",
    "import pickle\n",
    "filename = 'AdaBoost_model_original.sav'\n",
    "pickle.dump(ada_clf, open(filename, 'wb'))\n",
    "print(\"--- %s seconds ---\" % (time.time() - start_time))\n",
    "now = datetime.now()\n",
    "current_time = now.strftime(\"%H:%M:%S\")\n",
    "print(\"End Time =\", current_time)"
   ]
  },
  {
   "cell_type": "code",
   "execution_count": 37,
   "metadata": {},
   "outputs": [
    {
     "name": "stdout",
     "output_type": "stream",
     "text": [
      "Start Time = 16:04:46\n",
      "start fitting AdaBoost Model\n",
      "start making prediction\n",
      "start calculating accuracy score\n",
      "AdaBoost Model Accuracy: 36.05%\n",
      "--- 3.9777379035949707 seconds ---\n",
      "End Time = 16:04:50\n"
     ]
    }
   ],
   "source": [
    "# AdaBoost on original data\n",
    "import time\n",
    "start_time = time.time()   \n",
    "from datetime import datetime\n",
    "now = datetime.now()\n",
    "current_time = now.strftime(\"%H:%M:%S\")\n",
    "print(\"Start Time =\", current_time)\n",
    "print('start fitting AdaBoost Model') \n",
    "from sklearn.ensemble import AdaBoostClassifier\n",
    "from sklearn.tree import DecisionTreeClassifier\n",
    "ada_clf = AdaBoostClassifier(DecisionTreeClassifier(), n_estimators=200, algorithm='SAMME.R', learning_rate=0.5)\n",
    "ada_clf.fit(X_fft_train, y_train)\n",
    "print('start making prediction') \n",
    "y_test_pred_ada = ada_clf.predict(X_fft_test)\n",
    "print('start calculating accuracy score') \n",
    "from sklearn.metrics import accuracy_score  \n",
    "ada_accuracy = accuracy_score(y_test, y_test_pred_ada)\n",
    "print(\"AdaBoost Model Accuracy: %.2f%%\" % (ada_accuracy * 100.0))\n",
    "# save the model to disk\n",
    "import pickle\n",
    "filename = 'AdaBoost_model_fft.sav'\n",
    "pickle.dump(ada_clf, open(filename, 'wb'))\n",
    "print(\"--- %s seconds ---\" % (time.time() - start_time))\n",
    "now = datetime.now()\n",
    "current_time = now.strftime(\"%H:%M:%S\")\n",
    "print(\"End Time =\", current_time)"
   ]
  },
  {
   "cell_type": "code",
   "execution_count": null,
   "metadata": {},
   "outputs": [],
   "source": []
  }
 ],
 "metadata": {
  "kernelspec": {
   "display_name": "Python 3",
   "language": "python",
   "name": "python3"
  },
  "language_info": {
   "codemirror_mode": {
    "name": "ipython",
    "version": 3
   },
   "file_extension": ".py",
   "mimetype": "text/x-python",
   "name": "python",
   "nbconvert_exporter": "python",
   "pygments_lexer": "ipython3",
   "version": "3.8.3"
  }
 },
 "nbformat": 4,
 "nbformat_minor": 2
}
